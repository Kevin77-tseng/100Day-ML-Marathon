{
 "cells": [
  {
   "cell_type": "markdown",
   "metadata": {},
   "source": [
    "## 練習時間\n",
    "相信大家對回歸問題及分類問題都有初步的了解。今天的作業希望大家搜尋有關 multi-label 的案例問題。下圖是電影 \"奇異博士\" 的分類。可以看到同時有 \"Action\", \"Adventure\", \"Fantasy\" 的類別存在，代表這是個多標籤的問題。 "
   ]
  },
  {
   "cell_type": "code",
   "execution_count": null,
   "metadata": {},
   "outputs": [],
   "source": [
    "資料來源:\n",
    "Multi-label classification with Keras\n",
    "by Adrian Rosebrock on May 7, 2018 in Deep Learning, Keras, Tutorials\n",
    "\n",
    "目標:\n",
    "Using my app a user will upload a photo of clothing they like (ex. shirt, dress, pants, shoes) and my system will return similar items\n",
    "and include links for them to purchase the clothes online.\n",
    "\n",
    "評估指標: confidence\n",
    "We trained the network for 75 epochs, achieving:\n",
    "98.57% multi-label classification accuracy on the training set\n",
    "98.42% multi-label classification accuracy on the testing set\n",
    "Now that our multi-label classification Keras model is trained, let's apply it to images outside of our testing set.\n",
    "Set thresholding the probabilities and only returning labels with > N% confidence.\n"
   ]
  },
  {
   "cell_type": "markdown",
   "metadata": {},
   "source": [
    "![image](https://cdn-images-1.medium.com/max/1000/1*r0gYXMSQf5VhdMyl2bRDyg.png)"
   ]
  },
  {
   "cell_type": "markdown",
   "metadata": {},
   "source": [
    "## 請搜尋目標為多標籤問題 (Multi-label) 的機器學習案例，了解其資料來源、目標以及評估指標為何\n",
    "## Hint: 服飾"
   ]
  }
 ],
 "metadata": {
  "kernelspec": {
   "display_name": "Python 3",
   "language": "python",
   "name": "python3"
  },
  "language_info": {
   "codemirror_mode": {
    "name": "ipython",
    "version": 3
   },
   "file_extension": ".py",
   "mimetype": "text/x-python",
   "name": "python",
   "nbconvert_exporter": "python",
   "pygments_lexer": "ipython3",
   "version": "3.7.3"
  }
 },
 "nbformat": 4,
 "nbformat_minor": 2
}
